{
 "cells": [
  {
   "cell_type": "code",
   "execution_count": 8,
   "metadata": {
    "collapsed": true
   },
   "outputs": [],
   "source": [
    "# code taken from https://github.com/benjamincmorris/Semantic-Networks/blob/master/corpora_processing/CHILDES.PY\n",
    "import nltk\n",
    "from nltk.corpus.reader import CHILDESCorpusReader\n",
    "corpus_root = ('/Users/andrei/nltk_data/corpora/CHILDES/')\n",
    "\n",
    "from nltk.stem.snowball import SnowballStemmer\n",
    "stemmer= SnowballStemmer(\"english\")"
   ]
  },
  {
   "cell_type": "code",
   "execution_count": 9,
   "metadata": {
    "collapsed": true
   },
   "outputs": [],
   "source": [
    "childes = CHILDESCorpusReader(corpus_root, '.*.xml')"
   ]
  },
  {
   "cell_type": "code",
   "execution_count": 10,
   "metadata": {
    "collapsed": true
   },
   "outputs": [],
   "source": [
    "def remove_non_ascii_1(text):\n",
    "    return ''.join(i for i in text if ord(i)<128)"
   ]
  },
  {
   "cell_type": "code",
   "execution_count": 11,
   "metadata": {
    "collapsed": true
   },
   "outputs": [],
   "source": [
    "CHILDES_all=' '.join(childes.words())"
   ]
  },
  {
   "cell_type": "code",
   "execution_count": 12,
   "metadata": {
    "collapsed": true
   },
   "outputs": [],
   "source": [
    "CHILDES_all_dropped = remove_non_ascii_1(CHILDES_all)\n",
    "CHILDES_split = CHILDES_all_dropped.split(\" \")\n",
    "CHILDES_split = map(lambda x: x.encode('ascii'), CHILDES_split)\n",
    "#drop unintelligible codes?\n",
    "CHILDES_fixed = [x for x in CHILDES_split if x != 'yyy' and x != 'xxx' and x != 'www']\n",
    "# CHILDES_fixed = \" \".join(CHILDES_fixed)\n",
    "# file= open(\"CHILDES_words_only.txt\", \"w\")\n",
    "# file.write(CHILDES_fixed)\n",
    "# file.close()"
   ]
  },
  {
   "cell_type": "code",
   "execution_count": 13,
   "metadata": {
    "collapsed": true
   },
   "outputs": [],
   "source": [
    "def get_stems(text):\n",
    "    return ' '.join(stemmer.stem(i) for i in text)"
   ]
  },
  {
   "cell_type": "code",
   "execution_count": 14,
   "metadata": {
    "collapsed": true
   },
   "outputs": [],
   "source": [
    "childes_stemmed = get_stems(CHILDES_fixed)\n",
    "with open(\"CHILDES_words_stemmed.txt\", \"a\") as myfile:\n",
    "    myfile.write(childes_stemmed)"
   ]
  },
  {
   "cell_type": "code",
   "execution_count": null,
   "metadata": {
    "collapsed": true
   },
   "outputs": [],
   "source": []
  }
 ],
 "metadata": {
  "kernelspec": {
   "display_name": "Python 2",
   "language": "python",
   "name": "python2"
  },
  "language_info": {
   "codemirror_mode": {
    "name": "ipython",
    "version": 2
   },
   "file_extension": ".py",
   "mimetype": "text/x-python",
   "name": "python",
   "nbconvert_exporter": "python",
   "pygments_lexer": "ipython2",
   "version": "2.7.13"
  }
 },
 "nbformat": 4,
 "nbformat_minor": 2
}
