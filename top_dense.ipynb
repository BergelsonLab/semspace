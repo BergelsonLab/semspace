{
    "cells": [
        {
            "cell_type": "code",
            "execution_count": 1,
            "metadata": {
                "collapsed": true,
                "id": "aa1d9e15-a623-429c-9319-b4751aac6f2b",
                "focus": false
            },
            "outputs": [],
            "source": "import words\nimport json\nimport os"
        },
        {
            "cell_type": "code",
            "execution_count": 23,
            "metadata": {
                "collapsed": false,
                "id": "78ff0ee7-4b8c-4092-a5fe-78f78c2d1a4d",
                "focus": false
            },
            "outputs": [],
            "source": [
                "input_folder = \"data/density_cos_pnt5\"\n",
                "output_folder = \"data/ranked_output/cosine_point5\"\n",
                "\n",
                "\n",
                "\n",
                "for root, dirs, files in os.walk(input_folder):\n",
                "    for file in files:\n",
                "        with open(os.path.join(root, file), \"rU\") as input:\n",
                "            monthwords = json.load(input)\n",
                "            top_10 = words.top_n_words(monthwords, 20)\n",
                "            just_words = []\n",
                "            for entry in top_10:\n",
                "                just_words.append((entry[0], len(entry[1])))\n",
                "            with open(os.path.join(output_folder, file), \"wb\") as output:\n",
                "                for word in just_words:\n",
                "                    output.write(\"{} {}\\n\".format(word[0], word[1]))"
            ]
        },
        {
            "cell_type": "code",
            "execution_count": 2,
            "metadata": {
                "collapsed": false,
                "id": "c00f9f15-4c49-4102-b8b4-e3113b7048f6",
                "focus": true
            },
            "outputs": [],
            "source": "input_folder = \"data/semgraphs\"\noutput_folder = \"data/ranked_out\"\n\n\n\nfor root, dirs, files in os.walk(input_folder):\n    for file in files:\n        if not file.startswith(\".\"):\n            with open(os.path.join(root, file), \"rU\") as input:\n                monthwords = json.load(input)\n                top_10 = words.top_n_words(monthwords, 50)\n                just_words = []\n                for entry in top_10:\n                    just_words.append((entry[0], len(entry[1])))\n\n                final_out_folder = root.replace(input_folder, output_folder)\n\n                if not os.path.isdir(final_out_folder):\n                    os.makedirs(final_out_folder)\n\n                with open(os.path.join(final_out_folder, file), \"wb\") as output:\n                    for word in just_words:\n                        output.write(\"{} {}\\n\".format(word[0], word[1]))"
        },
        {
            "cell_type": "code",
            "execution_count": null,
            "metadata": {
                "collapsed": false,
                "id": "edf0a0b2-a1d7-4c71-8f27-4d211f7ed920",
                "focus": false
            },
            "outputs": [],
            "source": [
                "\n"
            ]
        },
        {
            "cell_type": "code",
            "execution_count": null,
            "metadata": {
                "collapsed": true,
                "id": "60c387df-5e95-4545-9cec-e45eae1a2d87",
                "focus": false
            },
            "outputs": [],
            "source": []
        }
    ],
    "metadata": {
        "kernelspec": {
            "display_name": "Python 2",
            "language": "python",
            "name": "python2"
        },
        "language_info": {
            "codemirror_mode": {
                "name": "ipython",
                "version": 2
            },
            "file_extension": ".py",
            "mimetype": "text/x-python",
            "name": "python",
            "nbconvert_exporter": "python",
            "pygments_lexer": "ipython2",
            "version": "2.7.12"
        }
    },
    "nbformat": 4,
    "nbformat_minor": 1
}