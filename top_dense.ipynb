{
 "cells": [
  {
   "cell_type": "code",
   "execution_count": 1,
   "metadata": {
    "collapsed": true,
    "focus": false,
    "id": "aa1d9e15-a623-429c-9319-b4751aac6f2b"
   },
   "outputs": [],
   "source": [
    "import words\n",
    "import json\n",
    "import os"
   ]
  },
  {
   "cell_type": "code",
   "execution_count": null,
   "metadata": {
    "collapsed": true
   },
   "outputs": [],
   "source": [
    "# load the vectors\n",
    "\n",
    "# we're using the 42 billion token, 300D, GloVe model, \n",
    "# (glove.42B.300d.zip from http://nlp.stanford.edu/projects/glove/)\n",
    "# with 1.9 million words in the vocab. The original \n",
    "# vector file was parsed into a numpy array and that \n",
    "# numpy array was saved to disc. The function that does\n",
    "# this parsing/loading is words.create_numpy_from_glove()\n",
    "# We load that numpy array and the vocab dictionary here.\n",
    "\n",
    "glove = GloVe()\n",
    "glove.load_model(\"data/model/dict_glove_42b_300\", \"data/model/vectors_glove_42b_300.npy\")"
   ]
  },
  {
   "cell_type": "code",
   "execution_count": null,
   "metadata": {
    "collapsed": true
   },
   "outputs": [],
   "source": []
  },
  {
   "cell_type": "code",
   "execution_count": 2,
   "metadata": {
    "collapsed": false,
    "focus": true,
    "id": "c00f9f15-4c49-4102-b8b4-e3113b7048f6"
   },
   "outputs": [],
   "source": [
    "input_folder = \"data/semgraphs\"\n",
    "output_folder = \"data/ranked_out\"\n",
    "\n",
    "\n",
    "\n",
    "for root, dirs, files in os.walk(input_folder):\n",
    "    for file in files:\n",
    "        if not file.startswith(\".\"):\n",
    "            with open(os.path.join(root, file), \"rU\") as input:\n",
    "                monthwords = json.load(input)\n",
    "                top_10 = words.top_n_words(monthwords, 50)\n",
    "                just_words = []\n",
    "                for entry in top_10:\n",
    "                    just_words.append((entry[0], len(entry[1])))\n",
    "\n",
    "                final_out_folder = root.replace(input_folder, output_folder)\n",
    "\n",
    "                if not os.path.isdir(final_out_folder):\n",
    "                    os.makedirs(final_out_folder)\n",
    "\n",
    "                with open(os.path.join(final_out_folder, file), \"wb\") as output:\n",
    "                    for word in just_words:\n",
    "                        output.write(\"{} {}\\n\".format(word[0], word[1]))"
   ]
  },
  {
   "cell_type": "code",
   "execution_count": null,
   "metadata": {
    "collapsed": false,
    "focus": false,
    "id": "edf0a0b2-a1d7-4c71-8f27-4d211f7ed920"
   },
   "outputs": [],
   "source": []
  },
  {
   "cell_type": "code",
   "execution_count": null,
   "metadata": {
    "collapsed": true,
    "focus": false,
    "id": "60c387df-5e95-4545-9cec-e45eae1a2d87"
   },
   "outputs": [],
   "source": []
  }
 ],
 "metadata": {
  "kernelspec": {
   "display_name": "Python 2",
   "language": "python",
   "name": "python2"
  },
  "language_info": {
   "codemirror_mode": {
    "name": "ipython",
    "version": 2
   },
   "file_extension": ".py",
   "mimetype": "text/x-python",
   "name": "python",
   "nbconvert_exporter": "python",
   "pygments_lexer": "ipython2",
   "version": "2.7.12"
  }
 },
 "nbformat": 4,
 "nbformat_minor": 0
}
