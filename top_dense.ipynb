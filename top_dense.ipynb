{
 "cells": [
  {
   "cell_type": "code",
   "execution_count": 1,
   "metadata": {
    "collapsed": false,
    "focus": false,
    "id": "aa1d9e15-a623-429c-9319-b4751aac6f2b"
   },
   "outputs": [],
   "source": [
    "from words import *\n",
    "from top_dense import *\n",
    "from wordbank import *\n",
    "import json\n",
    "import os"
   ]
  },
  {
   "cell_type": "code",
   "execution_count": 2,
   "metadata": {
    "collapsed": false
   },
   "outputs": [],
   "source": [
    "%load_ext autoreload\n",
    "%autoreload 2"
   ]
  },
  {
   "cell_type": "markdown",
   "metadata": {},
   "source": [
    "## Load the word vectors\n",
    "\n",
    "We're using the 42 billion token, 300D, GloVe model, \n",
    "(glove.42B.300d.zip from http://nlp.stanford.edu/projects/glove/)\n",
    "with 1.9 million words in the vocab. The original \n",
    "vector file was parsed into a numpy array and that \n",
    "numpy array was saved to disc. The function that does\n",
    "this parsing/loading is words.create_numpy_from_glove()\n",
    "We load that numpy array and the vocab dictionary from\n",
    "the output of that function here."
   ]
  },
  {
   "cell_type": "code",
   "execution_count": 8,
   "metadata": {
    "collapsed": false
   },
   "outputs": [],
   "source": [
    "glove = GloVe(vocab=\"data/model/dict_glove_42b_300\", \n",
    "              vectors=\"data/model/vectors_glove_42b_300.npy\")"
   ]
  },
  {
   "cell_type": "markdown",
   "metadata": {},
   "source": [
    "### Load the WordBank data\n",
    "\n",
    "Load the Wordbank data as a measure of infants' vocabulary. We'll pass these words into the semantic graph generator. We'll do the same thing to the environmental linguistic input."
   ]
  },
  {
   "cell_type": "code",
   "execution_count": 9,
   "metadata": {
    "collapsed": false
   },
   "outputs": [],
   "source": [
    "# load all the WordBank words for english\n",
    "wordbank_english = WordBank(input=\"data/wb_cdi/wordbank_english.csv\")\n",
    "\n",
    "\n",
    "# wordmap is a dictionary of keys to words.\n",
    "# here key is just the name of the input dataset, \n",
    "# i.e. wordbank_english\n",
    "wb_eng_wordmap = wordbank_english.wordmap()\n"
   ]
  },
  {
   "cell_type": "markdown",
   "metadata": {},
   "source": [
    "### Generate a semantic graph \n",
    "\n",
    "For every word, give it an edge with any other word that's within some threshold of cos(θ) to it (i.e.  cos(θ) >= 1.0 - threshold ). Output these graphs in JSON form with each word as a key, and a list of its neighbors as the value. We're generating a distinct graph for a range of threshold values. The \"start\" and \"end\" parameters specify this range and the \"step\" parameter specifies the granularity. "
   ]
  },
  {
   "cell_type": "code",
   "execution_count": 13,
   "metadata": {
    "collapsed": false
   },
   "outputs": [],
   "source": [
    "glove.graph_cosine_range(output_path=\"english_wordbank\", wordmap=wb_eng_wordmap, \n",
    "                         start=0.3, end=0.33, step=0.01)"
   ]
  },
  {
   "cell_type": "markdown",
   "metadata": {},
   "source": [
    "### Rank nodes in each graph by their degree\n",
    "\n",
    "For each of the graphs that we generated in the previous step, we output a csv file of the top ranked words (by degree). "
   ]
  },
  {
   "cell_type": "code",
   "execution_count": 4,
   "metadata": {
    "collapsed": false
   },
   "outputs": [],
   "source": [
    "rank_density(input_path=\"data/output/english_wordbank/semgraphs\", \n",
    "             output_path=\"data/output/english_wordbank/ranked_out\")"
   ]
  },
  {
   "cell_type": "code",
   "execution_count": null,
   "metadata": {
    "collapsed": false,
    "focus": false,
    "id": "edf0a0b2-a1d7-4c71-8f27-4d211f7ed920"
   },
   "outputs": [],
   "source": []
  },
  {
   "cell_type": "code",
   "execution_count": null,
   "metadata": {
    "collapsed": true,
    "focus": false,
    "id": "60c387df-5e95-4545-9cec-e45eae1a2d87"
   },
   "outputs": [],
   "source": []
  }
 ],
 "metadata": {
  "kernelspec": {
   "display_name": "Python 2",
   "language": "python",
   "name": "python2"
  },
  "language_info": {
   "codemirror_mode": {
    "name": "ipython",
    "version": 2
   },
   "file_extension": ".py",
   "mimetype": "text/x-python",
   "name": "python",
   "nbconvert_exporter": "python",
   "pygments_lexer": "ipython2",
   "version": "2.7.13"
  }
 },
 "nbformat": 4,
 "nbformat_minor": 0
}
