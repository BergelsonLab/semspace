{
 "cells": [
  {
   "cell_type": "code",
   "execution_count": 5,
   "metadata": {
    "collapsed": false,
    "focus": false,
    "id": "aa1d9e15-a623-429c-9319-b4751aac6f2b"
   },
   "outputs": [],
   "source": [
    "from words import *\n",
    "from top_dense import *\n",
    "from wordbank import *\n",
    "import json\n",
    "import os"
   ]
  },
  {
   "cell_type": "code",
   "execution_count": 2,
   "metadata": {
    "collapsed": false
   },
   "outputs": [],
   "source": [
    "%load_ext autoreload\n",
    "%autoreload 2"
   ]
  },
  {
   "cell_type": "code",
   "execution_count": 2,
   "metadata": {
    "collapsed": false
   },
   "outputs": [],
   "source": [
    "# load the vectors\n",
    "\n",
    "# we're using the 42 billion token, 300D, GloVe model, \n",
    "# (glove.42B.300d.zip from http://nlp.stanford.edu/projects/glove/)\n",
    "# with 1.9 million words in the vocab. The original \n",
    "# vector file was parsed into a numpy array and that \n",
    "# numpy array was saved to disc. The function that does\n",
    "# this parsing/loading is words.create_numpy_from_glove()\n",
    "# We load that numpy array and the vocab dictionary here.\n",
    "\n",
    "glove = GloVe(vocab=\"data/model/dict_glove_42b_300\", \n",
    "              vectors=\"data/model/vectors_glove_42b_300.npy\")\n",
    "\n"
   ]
  },
  {
   "cell_type": "code",
   "execution_count": 3,
   "metadata": {
    "collapsed": false
   },
   "outputs": [],
   "source": [
    "# load all the WordBank words for english\n",
    "\n",
    "wordbank_english = WordBank(input=\"data/wb_cdi/wordbank_english.csv\")\n",
    "# print wordbank_english.data\n",
    "\n",
    "# wordmap is a dictionary of keys to words.\n",
    "# here key is just the name of the input dataset, \n",
    "# i.e. wb_english\n",
    "\n",
    "wb_eng_wordmap = wordbank_english.wordmap()\n"
   ]
  },
  {
   "cell_type": "markdown",
   "metadata": {},
   "source": [
    "### Generate a semantic graph \n",
    "\n",
    "For every word, give it an edge with any other word that's within some threshold of cos(θ) to it (i.e.  cos(θ) >= 1.0 - threshold ). Output these graphs in JSON form with each word as a key, and a list of its neighbors as the value. We're generating a distinct graph for a range of threshold values. The start and end parameters specify this range."
   ]
  },
  {
   "cell_type": "code",
   "execution_count": 6,
   "metadata": {
    "collapsed": false
   },
   "outputs": [
    {
     "ename": "NameError",
     "evalue": "name 'glove' is not defined",
     "output_type": "error",
     "traceback": [
      "\u001b[0;31m---------------------------------------------------------------------------\u001b[0m",
      "\u001b[0;31mNameError\u001b[0m                                 Traceback (most recent call last)",
      "\u001b[0;32m<ipython-input-6-0f35f81e2e07>\u001b[0m in \u001b[0;36m<module>\u001b[0;34m()\u001b[0m\n\u001b[0;32m----> 1\u001b[0;31m glove.graph_cosine_range(output_path=\"english_wordbank\", wordmap=wb_eng_wordmap, \n\u001b[0m\u001b[1;32m      2\u001b[0m                          start=0.3, end=0.8, step=0.01)\n",
      "\u001b[0;31mNameError\u001b[0m: name 'glove' is not defined"
     ]
    }
   ],
   "source": [
    "glove.graph_cosine_range(output_path=\"english_wordbank\", wordmap=wb_eng_wordmap, \n",
    "                         start=0.3, end=0.8, step=0.01)"
   ]
  },
  {
   "cell_type": "code",
   "execution_count": 3,
   "metadata": {
    "collapsed": false
   },
   "outputs": [
    {
     "name": "stdout",
     "output_type": "stream",
     "text": [
      "data/output/english_wordbank/\n",
      "data/output/english_wordbank/\n",
      "data/output/english_wordbank/\n",
      "data/output/english_wordbank/\n",
      "data/output/english_wordbank/\n",
      "data/output/english_wordbank/\n",
      "data/output/english_wordbank/\n",
      "data/output/english_wordbank/\n",
      "data/output/english_wordbank/\n",
      "data/output/english_wordbank/\n",
      "data/output/english_wordbank/\n",
      "data/output/english_wordbank/\n",
      "data/output/english_wordbank/\n",
      "data/output/english_wordbank/\n",
      "data/output/english_wordbank/\n",
      "data/output/english_wordbank/\n",
      "data/output/english_wordbank/\n",
      "data/output/english_wordbank/\n",
      "data/output/english_wordbank/\n",
      "data/output/english_wordbank/\n",
      "data/output/english_wordbank/\n",
      "data/output/english_wordbank/\n",
      "data/output/english_wordbank/\n",
      "data/output/english_wordbank/\n",
      "data/output/english_wordbank/\n",
      "data/output/english_wordbank/\n",
      "data/output/english_wordbank/\n",
      "data/output/english_wordbank/\n",
      "data/output/english_wordbank/\n",
      "data/output/english_wordbank/\n",
      "data/output/english_wordbank/\n",
      "data/output/english_wordbank/\n",
      "data/output/english_wordbank/\n",
      "data/output/english_wordbank/\n",
      "data/output/english_wordbank/\n",
      "data/output/english_wordbank/\n"
     ]
    }
   ],
   "source": [
    "rank_density(input_path=\"data/output/english_wordbank\", output_path=\"data/output/english_wordbank/\")"
   ]
  },
  {
   "cell_type": "code",
   "execution_count": 2,
   "metadata": {
    "collapsed": false,
    "focus": true,
    "id": "c00f9f15-4c49-4102-b8b4-e3113b7048f6"
   },
   "outputs": [],
   "source": [
    "input_folder = \"data/semgraphs\"\n",
    "output_folder = \"data/ranked_out\"\n",
    "\n",
    "\n",
    "\n",
    "for root, dirs, files in os.walk(input_folder):\n",
    "    for file in files:\n",
    "        if not file.startswith(\".\"):\n",
    "            with open(os.path.join(root, file), \"rU\") as input:\n",
    "                monthwords = json.load(input)\n",
    "                top_10 = words.top_n_words(monthwords, 50)\n",
    "                just_words = []\n",
    "                for entry in top_10:\n",
    "                    just_words.append((entry[0], len(entry[1])))\n",
    "\n",
    "                final_out_folder = root.replace(input_folder, output_folder)\n",
    "\n",
    "                if not os.path.isdir(final_out_folder):\n",
    "                    os.makedirs(final_out_folder)\n",
    "\n",
    "                with open(os.path.join(final_out_folder, file), \"wb\") as output:\n",
    "                    for word in just_words:\n",
    "                        output.write(\"{} {}\\n\".format(word[0], word[1]))"
   ]
  },
  {
   "cell_type": "code",
   "execution_count": null,
   "metadata": {
    "collapsed": false,
    "focus": false,
    "id": "edf0a0b2-a1d7-4c71-8f27-4d211f7ed920"
   },
   "outputs": [],
   "source": []
  },
  {
   "cell_type": "code",
   "execution_count": null,
   "metadata": {
    "collapsed": true,
    "focus": false,
    "id": "60c387df-5e95-4545-9cec-e45eae1a2d87"
   },
   "outputs": [],
   "source": []
  }
 ],
 "metadata": {
  "kernelspec": {
   "display_name": "Python 2",
   "language": "python",
   "name": "python2"
  },
  "language_info": {
   "codemirror_mode": {
    "name": "ipython",
    "version": 2
   },
   "file_extension": ".py",
   "mimetype": "text/x-python",
   "name": "python",
   "nbconvert_exporter": "python",
   "pygments_lexer": "ipython2",
   "version": "2.7.12"
  }
 },
 "nbformat": 4,
 "nbformat_minor": 0
}
