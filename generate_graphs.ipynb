{
 "cells": [
  {
   "cell_type": "code",
   "execution_count": 1,
   "metadata": {
    "collapsed": true
   },
   "outputs": [],
   "source": [
    "import wordgraph as wg\n",
    "import numpy as np\n",
    "import pandas as pd"
   ]
  },
  {
   "cell_type": "code",
   "execution_count": 2,
   "metadata": {
    "collapsed": false
   },
   "outputs": [],
   "source": [
    "%reload_ext autoreload\n",
    "%autoreload 2"
   ]
  },
  {
   "cell_type": "code",
   "execution_count": 3,
   "metadata": {
    "collapsed": true
   },
   "outputs": [],
   "source": [
    "G = wg.WordGraph()"
   ]
  },
  {
   "cell_type": "markdown",
   "metadata": {},
   "source": [
    "# Using unit vectors for cos()"
   ]
  },
  {
   "cell_type": "code",
   "execution_count": 4,
   "metadata": {
    "collapsed": false
   },
   "outputs": [],
   "source": [
    "G.load_vector_model(vectors_path='data/glove_unit_42b_300.npy', \n",
    "                    vocab_path='data/dict_glove_42b_300', \n",
    "                    unit=True)"
   ]
  },
  {
   "cell_type": "markdown",
   "metadata": {},
   "source": [
    "\n",
    "## Generate SEEDLings Graphs"
   ]
  },
  {
   "cell_type": "code",
   "execution_count": 5,
   "metadata": {
    "collapsed": false
   },
   "outputs": [],
   "source": [
    "seedlings = pd.read_csv('data/all_bl_no_fixme_no_CHI.csv')"
   ]
  },
  {
   "cell_type": "markdown",
   "metadata": {},
   "source": [
    "#### All Month Graphs"
   ]
  },
  {
   "cell_type": "code",
   "execution_count": 10,
   "metadata": {
    "collapsed": false
   },
   "outputs": [],
   "source": [
    "G.load_words(seedlings, column='basic_level')\n",
    "\n",
    "output_dir = '/Volumes/Lexar/semspace_output/seedlings_all_no_CHI'\n",
    "\n",
    "G.generate_range_write(output_dir=output_dir, \n",
    "                       simil_func='cos',\n",
    "                       start=0.0, \n",
    "                       end=1.0, \n",
    "                       step=0.01)"
   ]
  },
  {
   "cell_type": "markdown",
   "metadata": {},
   "source": [
    "#### 6 Month Graphs"
   ]
  },
  {
   "cell_type": "code",
   "execution_count": 6,
   "metadata": {
    "collapsed": false
   },
   "outputs": [],
   "source": [
    "seedlings_6mo = seedlings[seedlings['month'] == 6]\n",
    "\n",
    "output_dir = '/Volumes/Lexar/semspace_output/seedlings_6mo_no_CHI'\n",
    "\n",
    "G.load_words(seedlings_6mo, column='basic_level')\n",
    "\n",
    "G.generate_range_write(output_dir=output_dir, \n",
    "                       simil_func='cos',\n",
    "                       start=0.0, \n",
    "                       end=1.0, \n",
    "                       step=0.01)"
   ]
  },
  {
   "cell_type": "markdown",
   "metadata": {},
   "source": [
    "#### 16+17 Month Graphs"
   ]
  },
  {
   "cell_type": "code",
   "execution_count": 8,
   "metadata": {
    "collapsed": false
   },
   "outputs": [],
   "source": [
    "seedlings_1617mo = seedlings.query('month == 16 or month == 17')\n",
    "\n",
    "output_dir = '/Volumes/Lexar/semspace_output/seedlings_1617mo_no_CHI'\n",
    "\n",
    "G.load_words(seedlings_1617mo, column='basic_level')\n",
    "\n",
    "G.generate_range_write(output_dir=output_dir, \n",
    "                       simil_func='cos',\n",
    "                       start=0.0, \n",
    "                       end=1.0, \n",
    "                       step=0.01)"
   ]
  },
  {
   "cell_type": "markdown",
   "metadata": {},
   "source": [
    "### Generate WordBank Graphs"
   ]
  },
  {
   "cell_type": "code",
   "execution_count": 5,
   "metadata": {
    "collapsed": false
   },
   "outputs": [],
   "source": [
    "G.load_csv_words('data/wordbank_english.csv', column='definition')"
   ]
  },
  {
   "cell_type": "code",
   "execution_count": 6,
   "metadata": {
    "collapsed": false
   },
   "outputs": [],
   "source": [
    "output_dir = '/Volumes/Lexar/semspace_output/wordbank'\n",
    "\n",
    "G.generate_range_write(output_dir=output_dir, \n",
    "                       simil_func='cos',\n",
    "                       start=0.0, \n",
    "                       end=1.0, \n",
    "                       step=0.01)"
   ]
  }
 ],
 "metadata": {
  "kernelspec": {
   "display_name": "Python 3",
   "language": "python",
   "name": "python3"
  },
  "language_info": {
   "codemirror_mode": {
    "name": "ipython",
    "version": 3
   },
   "file_extension": ".py",
   "mimetype": "text/x-python",
   "name": "python",
   "nbconvert_exporter": "python",
   "pygments_lexer": "ipython3",
   "version": "3.6.0"
  }
 },
 "nbformat": 4,
 "nbformat_minor": 2
}
