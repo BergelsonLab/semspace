{
 "cells": [
  {
   "cell_type": "code",
   "execution_count": 1,
   "metadata": {
    "collapsed": true
   },
   "outputs": [],
   "source": [
    "from words import *\n",
    "from top_dense import *\n",
    "from wordbank import *\n",
    "from seedlings import *\n",
    "\n",
    "import networkx as nx"
   ]
  },
  {
   "cell_type": "code",
   "execution_count": 2,
   "metadata": {
    "collapsed": true
   },
   "outputs": [],
   "source": [
    "%reload_ext autoreload\n",
    "%autoreload 2"
   ]
  },
  {
   "cell_type": "code",
   "execution_count": 3,
   "metadata": {
    "collapsed": true
   },
   "outputs": [],
   "source": [
    "glove = GloVe(vocab=\"data/model/dict_glove_42b_300\", \n",
    "              vectors=\"data/model/vectors_glove_42b_300.npy\")"
   ]
  },
  {
   "cell_type": "code",
   "execution_count": 4,
   "metadata": {
    "collapsed": true
   },
   "outputs": [],
   "source": [
    "wordbank_english = WordBank(input=\"data/wb_cdi/wb_eng.csv\")\n",
    "\n",
    "wb_eng_wordmap = wordbank_english.wordmap()"
   ]
  },
  {
   "cell_type": "code",
   "execution_count": 6,
   "metadata": {
    "collapsed": false
   },
   "outputs": [],
   "source": [
    "seedlings = Seedlings('data/seedlings/basic_level_concat.csv')"
   ]
  },
  {
   "cell_type": "code",
   "execution_count": 7,
   "metadata": {
    "collapsed": false
   },
   "outputs": [],
   "source": [
    "glove.graph_cosine_range(output_path=\"seedlings2\", wordmap=seedlings.wordmap(),\n",
    "                        start=0.79, end=0.8, step=0.01)"
   ]
  },
  {
   "cell_type": "code",
   "execution_count": 6,
   "metadata": {
    "collapsed": true
   },
   "outputs": [],
   "source": [
    "# English WordBank\n",
    "glove.graph_cosine_range(output_path=\"english_wordbank\", wordmap=wb_eng_wordmap, \n",
    "                         start=0.2, end=1.0, step=0.01)"
   ]
  },
  {
   "cell_type": "code",
   "execution_count": 7,
   "metadata": {
    "collapsed": true
   },
   "outputs": [],
   "source": [
    "rank_density(\"data/output/english_wordbank/semgraphs\",\n",
    "             \"data/output/english_wordbank/ranked_out\")"
   ]
  },
  {
   "cell_type": "code",
   "execution_count": 16,
   "metadata": {
    "collapsed": false
   },
   "outputs": [
    {
     "name": "stdout",
     "output_type": "stream",
     "text": [
      "[2]\n",
      "[1]\n",
      "True\n",
      "True\n",
      "[2]\n",
      "[1]\n",
      "True\n",
      "True\n"
     ]
    },
    {
     "data": {
      "text/plain": [
       "{1: {2: {}}, 2: {1: {}}, 3: {}, 4: {}, 5: {}}"
      ]
     },
     "execution_count": 16,
     "metadata": {},
     "output_type": "execute_result"
    }
   ],
   "source": [
    "G = nx.Graph()\n",
    "\n",
    "G.add_node(1)\n",
    "G.add_node(2)\n",
    "G.add_node(3)\n",
    "G.add_node(4)\n",
    "G.add_node(5)\n",
    "\n",
    "G.add_edge(1, 2)\n",
    "print G.neighbors(1)\n",
    "print G.neighbors(2)\n",
    "print nx.has_path(G, 1, 2)\n",
    "print nx.has_path(G, 2, 1)\n",
    "\n",
    "G.add_edge(2, 1)\n",
    "print G.neighbors(1)\n",
    "print G.neighbors(2)\n",
    "print nx.has_path(G, 1, 2)\n",
    "print nx.has_path(G, 2, 1)\n",
    "\n",
    "G.adj\n"
   ]
  },
  {
   "cell_type": "code",
   "execution_count": null,
   "metadata": {
    "collapsed": true
   },
   "outputs": [],
   "source": []
  }
 ],
 "metadata": {
  "kernelspec": {
   "display_name": "Python 2",
   "language": "python",
   "name": "python2"
  },
  "language_info": {
   "codemirror_mode": {
    "name": "ipython",
    "version": 2
   },
   "file_extension": ".py",
   "mimetype": "text/x-python",
   "name": "python",
   "nbconvert_exporter": "python",
   "pygments_lexer": "ipython2",
   "version": "2.7.13"
  }
 },
 "nbformat": 4,
 "nbformat_minor": 1
}
