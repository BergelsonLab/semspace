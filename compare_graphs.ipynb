{
 "cells": [
  {
   "cell_type": "code",
   "execution_count": 1,
   "metadata": {
    "collapsed": true
   },
   "outputs": [],
   "source": [
    "from seedlings import *\n",
    "from wordbank import *\n",
    "from words import *\n",
    "from top_dense import *"
   ]
  },
  {
   "cell_type": "code",
   "execution_count": 13,
   "metadata": {
    "collapsed": true
   },
   "outputs": [],
   "source": [
    "from scipy import stats\n",
    "import pandas as pd\n",
    "import numpy as np\n",
    "from ggplot import *\n",
    "import re"
   ]
  },
  {
   "cell_type": "code",
   "execution_count": 3,
   "metadata": {
    "collapsed": false
   },
   "outputs": [],
   "source": [
    "%reload_ext autoreload\n",
    "%autoreload 2"
   ]
  },
  {
   "cell_type": "code",
   "execution_count": 4,
   "metadata": {
    "collapsed": true
   },
   "outputs": [],
   "source": [
    "wordbank = WordBank(input=\"data/wb_cdi/wb_eng.csv\")"
   ]
  },
  {
   "cell_type": "code",
   "execution_count": 20,
   "metadata": {
    "collapsed": false
   },
   "outputs": [
    {
     "name": "stdout",
     "output_type": "stream",
     "text": [
      "threshold:   0.84\n",
      "kendall tau: 0.349528013546\n",
      "p-value:     1.49775385402e-17\n"
     ]
    }
   ],
   "source": [
    "top_graph, tau, p = top_kendall_threshold('data/output/seedlings/semgraphs', \n",
    "                                      wb=wordbank, wb_month='16', \n",
    "                                      source='SEEDLings')\n",
    "\n",
    "print \"threshold:   {}\".format(top_graph.threshold)\n",
    "print \"kendall tau: {}\".format(tau)\n",
    "print \"p-value:     {}\".format(p)"
   ]
  },
  {
   "cell_type": "code",
   "execution_count": 5,
   "metadata": {
    "collapsed": true
   },
   "outputs": [],
   "source": [
    "seedlings = Seedlings('data/seedlings/basic_level_concat.csv')\n"
   ]
  },
  {
   "cell_type": "code",
   "execution_count": 19,
   "metadata": {
    "collapsed": true
   },
   "outputs": [],
   "source": [
    "graph_df = top_graph.top_n_dense(all=True)\n",
    "\n",
    "def merge_counts(graph_df, seedlings_df):\n",
    "    new_df = pd.merge(graph_df, \n",
    "                      seedlings_df[['basic_level', 'count']], \n",
    "                      left_on='word', \n",
    "                      right_on='basic_level').drop_duplicates('basic_level')\n",
    "    return new_df\n",
    "\n",
    "merged_df = merge_counts(graph_df, seedlings.data)\n",
    "\n",
    "merged_df.to_csv(\"top_tau_seedlings.csv\")"
   ]
  },
  {
   "cell_type": "code",
   "execution_count": 32,
   "metadata": {
    "collapsed": false
   },
   "outputs": [],
   "source": [
    "seed_graph = SemanticGraph(path='data/output/seedlings/semgraphs/cosine_0.79/semgraph_16', \n",
    "                          wb=wordbank, source=\"SEEDLings\", sim_func='cos')"
   ]
  },
  {
   "cell_type": "code",
   "execution_count": 33,
   "metadata": {
    "collapsed": false
   },
   "outputs": [],
   "source": [
    "degree_distribution = seed_graph.degree_distr()"
   ]
  },
  {
   "cell_type": "code",
   "execution_count": null,
   "metadata": {
    "collapsed": false
   },
   "outputs": [],
   "source": []
  },
  {
   "cell_type": "code",
   "execution_count": 34,
   "metadata": {
    "collapsed": false
   },
   "outputs": [
    {
     "data": {
      "image/png": "[encoded data removed]",
      "text/plain": [
       "<matplotlib.figure.Figure at 0x115445250>"
      ]
     },
     "metadata": {},
     "output_type": "display_data"
    },
    {
     "data": {
      "text/plain": [
       "<ggplot: (289479941)>"
      ]
     },
     "execution_count": 34,
     "metadata": {},
     "output_type": "execute_result"
    }
   ],
   "source": [
    "ggplot(degree_distribution, aes(x='degree')) + geom_histogram(binwidth=10)"
   ]
  },
  {
   "cell_type": "code",
   "execution_count": null,
   "metadata": {
    "collapsed": true
   },
   "outputs": [],
   "source": []
  }
 ],
 "metadata": {
  "kernelspec": {
   "display_name": "Python 2",
   "language": "python",
   "name": "python2"
  },
  "language_info": {
   "codemirror_mode": {
    "name": "ipython",
    "version": 2
   },
   "file_extension": ".py",
   "mimetype": "text/x-python",
   "name": "python",
   "nbconvert_exporter": "python",
   "pygments_lexer": "ipython2",
   "version": "2.7.13"
  }
 },
 "nbformat": 4,
 "nbformat_minor": 1
}
