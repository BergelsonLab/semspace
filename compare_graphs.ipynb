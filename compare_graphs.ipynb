{
 "cells": [
  {
   "cell_type": "code",
   "execution_count": 68,
   "metadata": {
    "collapsed": true
   },
   "outputs": [],
   "source": [
    "from seedlings import *\n",
    "from wordbank import *\n",
    "from words import *\n",
    "from top_dense import *"
   ]
  },
  {
   "cell_type": "code",
   "execution_count": 78,
   "metadata": {
    "collapsed": true
   },
   "outputs": [],
   "source": [
    "from scipy import stats\n",
    "import pandas as pd\n",
    "import numpy as np\n",
    "from ggplot import *\n",
    "import matplotlib.pyplot as plt\n",
    "import powerlaw\n",
    "import re\n",
    "from operator import itemgetter"
   ]
  },
  {
   "cell_type": "code",
   "execution_count": 70,
   "metadata": {
    "collapsed": false
   },
   "outputs": [],
   "source": [
    "%reload_ext autoreload\n",
    "%autoreload 2"
   ]
  },
  {
   "cell_type": "code",
   "execution_count": 5,
   "metadata": {
    "collapsed": true
   },
   "outputs": [],
   "source": [
    "wordbank = WordBank(input=\"data/wb_cdi/wb_eng.csv\")"
   ]
  },
  {
   "cell_type": "code",
   "execution_count": 20,
   "metadata": {
    "collapsed": false
   },
   "outputs": [
    {
     "name": "stdout",
     "output_type": "stream",
     "text": [
      "threshold:   0.84\n",
      "kendall tau: 0.349528013546\n",
      "p-value:     1.49775385402e-17\n"
     ]
    }
   ],
   "source": [
    "top_graph, tau, p = top_kendall_threshold('data/output/seedlings/semgraphs', \n",
    "                                      wb=wordbank, wb_month='16', \n",
    "                                      source='SEEDLings')\n",
    "\n",
    "print \"threshold:   {}\".format(top_graph.threshold)\n",
    "print \"kendall tau: {}\".format(tau)\n",
    "print \"p-value:     {}\".format(p)"
   ]
  },
  {
   "cell_type": "code",
   "execution_count": 6,
   "metadata": {
    "collapsed": true
   },
   "outputs": [],
   "source": [
    "seedlings = Seedlings('data/seedlings/basic_level_concat.csv')\n"
   ]
  },
  {
   "cell_type": "code",
   "execution_count": 19,
   "metadata": {
    "collapsed": true
   },
   "outputs": [],
   "source": [
    "graph_df = top_graph.top_n_dense(all=True)\n",
    "\n",
    "def merge_counts(graph_df, seedlings_df):\n",
    "    new_df = pd.merge(graph_df, \n",
    "                      seedlings_df[['basic_level', 'count']], \n",
    "                      left_on='word', \n",
    "                      right_on='basic_level').drop_duplicates('basic_level')\n",
    "    return new_df\n",
    "\n",
    "merged_df = merge_counts(graph_df, seedlings.data)\n",
    "\n",
    "merged_df.to_csv(\"top_tau_seedlings.csv\")"
   ]
  },
  {
   "cell_type": "code",
   "execution_count": 86,
   "metadata": {
    "collapsed": false
   },
   "outputs": [],
   "source": [
    "%%capture\n",
    "top_graph, pl_result = min_powerlaw_alpha(path='data/output/seedlings/semgraphs', wb=wordbank)"
   ]
  },
  {
   "cell_type": "code",
   "execution_count": 87,
   "metadata": {
    "collapsed": false
   },
   "outputs": [
    {
     "data": {
      "text/plain": [
       "2.422295555667338"
      ]
     },
     "execution_count": 87,
     "metadata": {},
     "output_type": "execute_result"
    }
   ],
   "source": [
    "pl_result.alpha"
   ]
  },
  {
   "cell_type": "code",
   "execution_count": 91,
   "metadata": {
    "collapsed": false
   },
   "outputs": [
    {
     "data": {
      "text/plain": [
       "0.4"
      ]
     },
     "execution_count": 91,
     "metadata": {},
     "output_type": "execute_result"
    }
   ],
   "source": [
    "degree_distribution = top_graph.degree_distr()\n",
    "ggplot(degree_distribution, aes(x='degree')) + geom_histogram(binwidth=10)\n",
    "top_graph.threshold"
   ]
  },
  {
   "cell_type": "code",
   "execution_count": 61,
   "metadata": {
    "collapsed": false
   },
   "outputs": [],
   "source": [
    "seed_graph = SemanticGraph(path='data/output/seedlings/semgraphs/cosine_0.4/semgraph_16', \n",
    "                          wb=wordbank, source=\"SEEDLings\", sim_func='cos')"
   ]
  },
  {
   "cell_type": "code",
   "execution_count": 62,
   "metadata": {
    "collapsed": true
   },
   "outputs": [],
   "source": [
    "degree_distribution = seed_graph.degree_distr()"
   ]
  },
  {
   "cell_type": "code",
   "execution_count": 63,
   "metadata": {
    "collapsed": false
   },
   "outputs": [],
   "source": [
    "%%capture\n",
    "result = powerlaw.Fit(degree_distribution.dropna().values[:, 0])\n",
    "# result = powerlaw.Fit(degree_distribution.dropna().values[:, 0], sigma_threshold=0.2)\n",
    "\n"
   ]
  },
  {
   "cell_type": "code",
   "execution_count": 64,
   "metadata": {
    "collapsed": false
   },
   "outputs": [
    {
     "data": {
      "text/plain": [
       "3.086431495198378"
      ]
     },
     "execution_count": 64,
     "metadata": {},
     "output_type": "execute_result"
    }
   ],
   "source": [
    "result.alpha"
   ]
  },
  {
   "cell_type": "code",
   "execution_count": 65,
   "metadata": {
    "collapsed": false
   },
   "outputs": [
    {
     "data": {
      "text/plain": [
       "0.23474188313586886"
      ]
     },
     "execution_count": 65,
     "metadata": {},
     "output_type": "execute_result"
    }
   ],
   "source": [
    "result.sigma"
   ]
  },
  {
   "cell_type": "code",
   "execution_count": 66,
   "metadata": {
    "collapsed": false
   },
   "outputs": [
    {
     "data": {
      "text/plain": [
       "8.0"
      ]
     },
     "execution_count": 66,
     "metadata": {},
     "output_type": "execute_result"
    }
   ],
   "source": [
    "result.xmin"
   ]
  },
  {
   "cell_type": "code",
   "execution_count": 77,
   "metadata": {
    "collapsed": false
   },
   "outputs": [],
   "source": [
    "%%capture\n",
    "pl_values = kendall_powerlaw_tuples('data/output/seedlings/semgraphs', wb=wordbank, wb_month='16')"
   ]
  },
  {
   "cell_type": "code",
   "execution_count": 80,
   "metadata": {
    "collapsed": true
   },
   "outputs": [],
   "source": [
    "cosines = [x[0] for x in pl_values]\n",
    "alphas = [x[1].alpha for x in pl_values]"
   ]
  },
  {
   "cell_type": "code",
   "execution_count": 82,
   "metadata": {
    "collapsed": false
   },
   "outputs": [
    {
     "data": {
      "image/png": "[encoded data removed]",
      "text/plain": [
       "<matplotlib.figure.Figure at 0x1163f2090>"
      ]
     },
     "metadata": {},
     "output_type": "display_data"
    }
   ],
   "source": [
    "plt.plot(cosines, alphas)\n",
    "plt.show()"
   ]
  },
  {
   "cell_type": "code",
   "execution_count": null,
   "metadata": {
    "collapsed": true
   },
   "outputs": [],
   "source": []
  }
 ],
 "metadata": {
  "kernelspec": {
   "display_name": "Python 2",
   "language": "python",
   "name": "python2"
  },
  "language_info": {
   "codemirror_mode": {
    "name": "ipython",
    "version": 2
   },
   "file_extension": ".py",
   "mimetype": "text/x-python",
   "name": "python",
   "nbconvert_exporter": "python",
   "pygments_lexer": "ipython2",
   "version": "2.7.13"
  }
 },
 "nbformat": 4,
 "nbformat_minor": 1
}
